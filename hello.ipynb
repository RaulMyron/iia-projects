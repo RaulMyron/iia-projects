{
 "cells": [
  {
   "cell_type": "code",
   "execution_count": 1,
   "id": "f035bd08-4168-4d12-872d-34caa5c97a2a",
   "metadata": {},
   "outputs": [],
   "source": [
    "import pandas as pd\n",
    "from geopy.distance import geodesic"
   ]
  },
  {
   "cell_type": "code",
   "execution_count": 2,
   "id": "f636e93a-c82a-4e58-aa53-b5be9605edec",
   "metadata": {},
   "outputs": [],
   "source": [
    "try:\n",
    "    df = pd.read_excel(\"farmersmarket_2025-58162612.xlsx\")\n",
    "except FileNotFoundError:\n",
    "    print(\"Error: 'farmersmarket_2025-58162612.xlsx' not found.\")\n",
    "    print(\"Please make sure the file exists in the same directory as the script,\")\n",
    "    print(\"or provide the full path to the file.\")\n",
    "    exit()\n",
    "except Exception as e:\n",
    "    print(f\"Error reading the file: {e}\")\n",
    "    exit()"
   ]
  },
  {
   "cell_type": "code",
   "execution_count": 13,
   "id": "e20dae81-7b42-4225-b26f-5c8131b6ae25",
   "metadata": {},
   "outputs": [
    {
     "data": {
      "text/html": [
       "<div>\n",
       "<style scoped>\n",
       "    .dataframe tbody tr th:only-of-type {\n",
       "        vertical-align: middle;\n",
       "    }\n",
       "\n",
       "    .dataframe tbody tr th {\n",
       "        vertical-align: top;\n",
       "    }\n",
       "\n",
       "    .dataframe thead th {\n",
       "        text-align: right;\n",
       "    }\n",
       "</style>\n",
       "<table border=\"1\" class=\"dataframe\">\n",
       "  <thead>\n",
       "    <tr style=\"text-align: right;\">\n",
       "      <th></th>\n",
       "      <th>listing_id</th>\n",
       "      <th>listing_name</th>\n",
       "      <th>location_address</th>\n",
       "      <th>location_x</th>\n",
       "      <th>location_y</th>\n",
       "    </tr>\n",
       "  </thead>\n",
       "  <tbody>\n",
       "    <tr>\n",
       "      <th>0</th>\n",
       "      <td>300002</td>\n",
       "      <td>Colorado Farm and Art Market</td>\n",
       "      <td>7350 Pine Creek Road, Colorado Springs, Colora...</td>\n",
       "      <td>-104.814680</td>\n",
       "      <td>38.9377160</td>\n",
       "    </tr>\n",
       "    <tr>\n",
       "      <th>1</th>\n",
       "      <td>300003</td>\n",
       "      <td>Market in The Park</td>\n",
       "      <td>300 Conti, Mobile, Alabama 36602</td>\n",
       "      <td>-88.045015</td>\n",
       "      <td>30.690350</td>\n",
       "    </tr>\n",
       "    <tr>\n",
       "      <th>2</th>\n",
       "      <td>300004</td>\n",
       "      <td>The Territory Farmers' Market</td>\n",
       "      <td>2000 Territory Drive, Galena, Illinois 61036</td>\n",
       "      <td>-90.313530</td>\n",
       "      <td>42.404443</td>\n",
       "    </tr>\n",
       "    <tr>\n",
       "      <th>3</th>\n",
       "      <td>300005</td>\n",
       "      <td>City of Plymouth Farmers Market</td>\n",
       "      <td>15500 County Road 6, Plymouth, Minnesota 55447</td>\n",
       "      <td>-93.473419</td>\n",
       "      <td>44.997274</td>\n",
       "    </tr>\n",
       "    <tr>\n",
       "      <th>4</th>\n",
       "      <td>300006</td>\n",
       "      <td>Durham Farmers' Market</td>\n",
       "      <td>501 Foster Street, Durham, North Carolina 27701</td>\n",
       "      <td>-78.901856</td>\n",
       "      <td>36.000559</td>\n",
       "    </tr>\n",
       "  </tbody>\n",
       "</table>\n",
       "</div>"
      ],
      "text/plain": [
       "   listing_id                     listing_name  \\\n",
       "0      300002     Colorado Farm and Art Market   \n",
       "1      300003               Market in The Park   \n",
       "2      300004    The Territory Farmers' Market   \n",
       "3      300005  City of Plymouth Farmers Market   \n",
       "4      300006           Durham Farmers' Market   \n",
       "\n",
       "                                    location_address  location_x  location_y  \n",
       "0  7350 Pine Creek Road, Colorado Springs, Colora... -104.814680  38.9377160  \n",
       "1                   300 Conti, Mobile, Alabama 36602  -88.045015   30.690350  \n",
       "2       2000 Territory Drive, Galena, Illinois 61036  -90.313530   42.404443  \n",
       "3     15500 County Road 6, Plymouth, Minnesota 55447  -93.473419   44.997274  \n",
       "4    501 Foster Street, Durham, North Carolina 27701  -78.901856   36.000559  "
      ]
     },
     "execution_count": 13,
     "metadata": {},
     "output_type": "execute_result"
    }
   ],
   "source": [
    "df.head()"
   ]
  },
  {
   "cell_type": "code",
   "execution_count": 14,
   "id": "0f02f02c-b633-44c7-930b-65e2a9208e32",
   "metadata": {},
   "outputs": [
    {
     "name": "stdout",
     "output_type": "stream",
     "text": [
      "Index(['listing_id', 'listing_name', 'location_address', 'location_x',\n",
      "       'location_y'],\n",
      "      dtype='object')\n"
     ]
    }
   ],
   "source": [
    "print(df.columns)"
   ]
  },
  {
   "cell_type": "code",
   "execution_count": 15,
   "id": "3f40cc99-d143-4e2f-bf16-86921f2676a0",
   "metadata": {},
   "outputs": [],
   "source": [
    "vazias = []\n",
    "for col in df:\n",
    "    if df[col].isna().all():\n",
    "        vazias.append(col)\n"
   ]
  },
  {
   "cell_type": "code",
   "execution_count": 8,
   "id": "d52de5a6-c19f-4d53-8e37-9f4edd554fbc",
   "metadata": {},
   "outputs": [],
   "source": [
    "df = df[['listing_id', 'listing_name', 'location_address', 'location_x', 'location_y']]"
   ]
  },
  {
   "cell_type": "code",
   "execution_count": 9,
   "id": "545e41c2-3c4d-40bc-9250-635118dc615f",
   "metadata": {},
   "outputs": [
    {
     "data": {
      "text/html": [
       "<div>\n",
       "<style scoped>\n",
       "    .dataframe tbody tr th:only-of-type {\n",
       "        vertical-align: middle;\n",
       "    }\n",
       "\n",
       "    .dataframe tbody tr th {\n",
       "        vertical-align: top;\n",
       "    }\n",
       "\n",
       "    .dataframe thead th {\n",
       "        text-align: right;\n",
       "    }\n",
       "</style>\n",
       "<table border=\"1\" class=\"dataframe\">\n",
       "  <thead>\n",
       "    <tr style=\"text-align: right;\">\n",
       "      <th></th>\n",
       "      <th>listing_id</th>\n",
       "      <th>listing_name</th>\n",
       "      <th>location_address</th>\n",
       "      <th>location_x</th>\n",
       "      <th>location_y</th>\n",
       "    </tr>\n",
       "  </thead>\n",
       "  <tbody>\n",
       "    <tr>\n",
       "      <th>0</th>\n",
       "      <td>300002</td>\n",
       "      <td>Colorado Farm and Art Market</td>\n",
       "      <td>7350 Pine Creek Road, Colorado Springs, Colora...</td>\n",
       "      <td>-104.814680</td>\n",
       "      <td>38.9377160</td>\n",
       "    </tr>\n",
       "    <tr>\n",
       "      <th>1</th>\n",
       "      <td>300003</td>\n",
       "      <td>Market in The Park</td>\n",
       "      <td>300 Conti, Mobile, Alabama 36602</td>\n",
       "      <td>-88.045015</td>\n",
       "      <td>30.690350</td>\n",
       "    </tr>\n",
       "    <tr>\n",
       "      <th>2</th>\n",
       "      <td>300004</td>\n",
       "      <td>The Territory Farmers' Market</td>\n",
       "      <td>2000 Territory Drive, Galena, Illinois 61036</td>\n",
       "      <td>-90.313530</td>\n",
       "      <td>42.404443</td>\n",
       "    </tr>\n",
       "    <tr>\n",
       "      <th>3</th>\n",
       "      <td>300005</td>\n",
       "      <td>City of Plymouth Farmers Market</td>\n",
       "      <td>15500 County Road 6, Plymouth, Minnesota 55447</td>\n",
       "      <td>-93.473419</td>\n",
       "      <td>44.997274</td>\n",
       "    </tr>\n",
       "    <tr>\n",
       "      <th>4</th>\n",
       "      <td>300006</td>\n",
       "      <td>Durham Farmers' Market</td>\n",
       "      <td>501 Foster Street, Durham, North Carolina 27701</td>\n",
       "      <td>-78.901856</td>\n",
       "      <td>36.000559</td>\n",
       "    </tr>\n",
       "  </tbody>\n",
       "</table>\n",
       "</div>"
      ],
      "text/plain": [
       "   listing_id                     listing_name  \\\n",
       "0      300002     Colorado Farm and Art Market   \n",
       "1      300003               Market in The Park   \n",
       "2      300004    The Territory Farmers' Market   \n",
       "3      300005  City of Plymouth Farmers Market   \n",
       "4      300006           Durham Farmers' Market   \n",
       "\n",
       "                                    location_address  location_x  location_y  \n",
       "0  7350 Pine Creek Road, Colorado Springs, Colora... -104.814680  38.9377160  \n",
       "1                   300 Conti, Mobile, Alabama 36602  -88.045015   30.690350  \n",
       "2       2000 Territory Drive, Galena, Illinois 61036  -90.313530   42.404443  \n",
       "3     15500 County Road 6, Plymouth, Minnesota 55447  -93.473419   44.997274  \n",
       "4    501 Foster Street, Durham, North Carolina 27701  -78.901856   36.000559  "
      ]
     },
     "execution_count": 9,
     "metadata": {},
     "output_type": "execute_result"
    }
   ],
   "source": [
    "df.head()"
   ]
  },
  {
   "cell_type": "code",
   "execution_count": 11,
   "id": "1e33dc01-f902-454c-9dc1-7c4d6a97a9b1",
   "metadata": {},
   "outputs": [
    {
     "data": {
      "text/plain": [
       "'7350 Pine Creek Road, Colorado Springs, Colorado 80919'"
      ]
     },
     "execution_count": 11,
     "metadata": {},
     "output_type": "execute_result"
    }
   ],
   "source": [
    "df['location_address'][0]"
   ]
  },
  {
   "cell_type": "code",
   "execution_count": 20,
   "id": "908c17dd-ca22-4b9b-899b-b5b9831ba7f2",
   "metadata": {},
   "outputs": [
    {
     "name": "stdout",
     "output_type": "stream",
     "text": [
      "0    Colorado Springs\n",
      "1              Mobile\n",
      "2              Galena\n",
      "3            Plymouth\n",
      "4              Durham\n",
      "Name: city, dtype: object\n",
      "city\n",
      "Washington     49\n",
      "Minneapolis    33\n",
      "US             27\n",
      "Los Angeles    25\n",
      "New York       24\n",
      "               ..\n",
      "Laytonville     1\n",
      "Winterset       1\n",
      "Delta           1\n",
      "Unionville      1\n",
      "Akron           1\n",
      "Name: count, Length: 5199, dtype: int64\n"
     ]
    }
   ],
   "source": [
    "# Extract the city from the 'location_address' column\n",
    "df.loc[:, 'city'] = df['location_address'].str.split(',').str[1].str.strip()\n",
    "\n",
    "# Verify the result\n",
    "print(df['city'].head())\n",
    "\n",
    "city_counts = df['city'].value_counts()\n",
    "\n",
    "# Print the result\n",
    "print(city_counts)"
   ]
  },
  {
   "cell_type": "markdown",
   "id": "37a3c69e-de3e-452c-9f3d-336396194e6a",
   "metadata": {},
   "source": [
    "# "
   ]
  }
 ],
 "metadata": {
  "kernelspec": {
   "display_name": "Python 3 (ipykernel)",
   "language": "python",
   "name": "python3"
  },
  "language_info": {
   "codemirror_mode": {
    "name": "ipython",
    "version": 3
   },
   "file_extension": ".py",
   "mimetype": "text/x-python",
   "name": "python",
   "nbconvert_exporter": "python",
   "pygments_lexer": "ipython3",
   "version": "3.12.4"
  }
 },
 "nbformat": 4,
 "nbformat_minor": 5
}
